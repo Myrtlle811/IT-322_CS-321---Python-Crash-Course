{
 "cells": [
  {
   "cell_type": "markdown",
   "metadata": {},
   "source": [
    "# **Python Basics**"
   ]
  },
  {
   "cell_type": "markdown",
   "metadata": {},
   "source": [
    "What is Python?\n",
    "- this is a high-level programming language. Its syntax are near to human understanding or readable. \n",
    "- this uses an interpreter. \n",
    "- this has dynamic typing. \n",
    "- this follows the principle of OOP. \n",
    "- open source."
   ]
  },
  {
   "cell_type": "code",
   "execution_count": 1,
   "metadata": {},
   "outputs": [
    {
     "name": "stdout",
     "output_type": "stream",
     "text": [
      "<class 'int'>\n",
      "<class 'float'>\n",
      "<class 'str'>\n"
     ]
    }
   ],
   "source": [
    "var1 = 1\n",
    "var2 = -2.4\n",
    "var3 = \"String\"\n",
    "\n",
    "print(type(var1))\n",
    "print(type(var2))\n",
    "print(type(var3))"
   ]
  },
  {
   "cell_type": "markdown",
   "metadata": {},
   "source": [
    "## Terms in Python"
   ]
  },
  {
   "cell_type": "markdown",
   "metadata": {},
   "source": [
    "1. `Strings` -> collections of characters. This could be in text or sentences. Strings can be enclosed within single (''), double (\"\"), or triple (\"\"\"\"\"\") quotation marks. Strings are not mutable, meaning, they cannot be updated/changed."
   ]
  },
  {
   "cell_type": "code",
   "execution_count": 1,
   "metadata": {},
   "outputs": [
    {
     "name": "stdout",
     "output_type": "stream",
     "text": [
      "W\n",
      "This is my first time with Python.\n",
      "\n",
      "        Hi, I am new to Python,\n",
      "        and I am trying to navigate\n",
      "        on how to explore this\n",
      "        new programming language.\n",
      "\n",
      "World\n"
     ]
    }
   ],
   "source": [
    "# Example of a string \n",
    "\n",
    "var1 = 'Hello World!'\n",
    "var2 = \"This is my first time with Python.\"\n",
    "var3 = \"\"\"\n",
    "        Hi, I am new to Python,\n",
    "        and I am trying to navigate\n",
    "        on how to explore this\n",
    "        new programming language.\n",
    "\"\"\"\n",
    "\n",
    "print(var1[6])\n",
    "print(var2)\n",
    "print(var3)\n",
    "\n",
    "print(var1[6:11])\n",
    "\n",
    "# With indexing, we always start at 0. This is because this is relative to the origin, or the distance from the origin. "
   ]
  },
  {
   "cell_type": "markdown",
   "metadata": {},
   "source": [
    "2. `Variables` -> this is your container for data. Mostly, they hold temporary data, that you may update depending on the flow of you program. \n",
    "\n",
    "Note: \n",
    "- Variable name is essetial, so it should be descriptive.\n",
    "- It may start with lowcaps or a uppercap alphabet character. It could also start with a symbol. \n",
    "- BUT, it should not start with a number.\n",
    "- Variable naming are case sensitive. Apple and apple are not the same. "
   ]
  },
  {
   "cell_type": "code",
   "execution_count": 6,
   "metadata": {},
   "outputs": [
    {
     "name": "stdout",
     "output_type": "stream",
     "text": [
      "Var1 is 2 while var1 is 5\n"
     ]
    }
   ],
   "source": [
    "# Example for Variables\n",
    "var4 = 1\n",
    "print(\"Var 4 value is \", var4)\n",
    "print(\"Its data type is\", type(var4))\n",
    "\n",
    "var4 = -2.4\n",
    "print(\"Var 4 value is \", var4)\n",
    "print(\"Its data type is\", type(var4))\n",
    "\n",
    "# These variables are not the same\n",
    "Var1 = 2\n",
    "var1 = 5\n",
    "print(\"Var1 is\", Var1, \"while var1 is\", var1)"
   ]
  },
  {
   "cell_type": "markdown",
   "metadata": {},
   "source": [
    "3. `Statements` -> as the structure that follows a specific syntax and produces the appropriate meaning."
   ]
  },
  {
   "cell_type": "code",
   "execution_count": 3,
   "metadata": {},
   "outputs": [
    {
     "name": "stdout",
     "output_type": "stream",
     "text": [
      "Hello\n",
      "Yehey\n"
     ]
    }
   ],
   "source": [
    "# Example of a if, elif, else statement, with a nested if, elif statement\n",
    "\n",
    "var5 = 0\n",
    "if (var5 < 1):\n",
    "    print(\"Hello\")\n",
    "    if (var5 == 0):\n",
    "        print(\"Yehey\")\n",
    "    elif(var5 < 2):\n",
    "        print(\"World\")\n",
    "elif(var5 < 3):\n",
    "    print(\"Love\")\n",
    "else:\n",
    "    print(\"Goodbye\")"
   ]
  },
  {
   "cell_type": "markdown",
   "metadata": {},
   "source": [
    "4. `List` -> is a versatile data structure in python. It will allow you to save/store multiple data of different types. This is mutable, meaning it can be changed. "
   ]
  },
  {
   "cell_type": "code",
   "execution_count": 17,
   "metadata": {},
   "outputs": [
    {
     "name": "stdout",
     "output_type": "stream",
     "text": [
      "Original list:  [1, -2.4, True, 'Hello', 0.0]\n",
      "List with slicing and skips:  [-2.4, 'Hello']\n"
     ]
    }
   ],
   "source": [
    "# Example of a List\n",
    "myList = [1, -2.4, True, 'Hello', 00.00]\n",
    "print(\"Original list: \", myList)\n",
    "print(\"List with slicing and skips: \", myList[1:4:2])\n",
    "\n",
    "# First value is the starting index\n",
    "# Second value is the end, not included when slice is performed\n",
    "# Third value is optional, which is used for the number of skips."
   ]
  },
  {
   "cell_type": "markdown",
   "metadata": {},
   "source": [
    "5. `Array` -> this stores only a homogeneous group of data, meaning, they should be of the same datatype. To use this, you have to import the array library, which will provide an array module for you to use. Use the **import** keyword followed by **array** to access this library."
   ]
  },
  {
   "cell_type": "code",
   "execution_count": 18,
   "metadata": {},
   "outputs": [
    {
     "name": "stdout",
     "output_type": "stream",
     "text": [
      "My array:  array('i', [1, -2, 3, -4, 5])\n"
     ]
    }
   ],
   "source": [
    "# Example of an Array\n",
    "import array\n",
    "\n",
    "myArray = array.array(\"i\", [1, -2, 3, -4, 5]) \n",
    "print(\"My array: \", myArray)"
   ]
  },
  {
   "cell_type": "markdown",
   "metadata": {},
   "source": [
    "6. `Loops` -> repeated statements that can be executed depending on the number of times that it was specified or based on a given condition.  \n",
    "\n",
    "Note:\n",
    "- use for loop if you know when to stop. \n",
    "- while loop should be used when you are waiting for a specific condition to be met, before you end your execution. "
   ]
  },
  {
   "cell_type": "code",
   "execution_count": 19,
   "metadata": {},
   "outputs": [
    {
     "name": "stdout",
     "output_type": "stream",
     "text": [
      "Value of i:  0\n",
      "Value of i:  1\n",
      "Value of i:  2\n",
      "Value of i:  3\n",
      "Value of i:  4\n",
      "Value of input:  2\n"
     ]
    }
   ],
   "source": [
    "# Example for for loop\n",
    "for i in range(0, 5):\n",
    "    print(\"Value of i: \", i)\n",
    "    \n",
    "# Example for while loop\n",
    "userInput = int(input(\"Add an input: \"))\n",
    "while(userInput != 3):\n",
    "    print(\"Value of input: \", userInput)\n",
    "    userInput += 1"
   ]
  },
  {
   "cell_type": "markdown",
   "metadata": {},
   "source": [
    "7. `Functions` -> there are two definitions of functions in python.\n",
    "\n",
    "- inbuilt functions (e.g., input() or print()).\n",
    "- defined functions that are created by a programmer. This functions are not within a class. They use the keyword **def** to define the function. "
   ]
  },
  {
   "cell_type": "code",
   "execution_count": 21,
   "metadata": {},
   "outputs": [
    {
     "name": "stdout",
     "output_type": "stream",
     "text": [
      "Hello,  John\n",
      "The value for fib or 0 is:  0\n"
     ]
    }
   ],
   "source": [
    "# Example of a function\n",
    "def printingNames(name):\n",
    "    print(\"Hello, \", name)\n",
    "    \n",
    "printingNames(\"John\")\n",
    "\n",
    "# Example of a recursive function\n",
    "def fibo(n = 1):\n",
    "    if n <= 1:\n",
    "        return n\n",
    "    else:\n",
    "        return fibo(fibo(n-1) + fibo(n-2))\n",
    "\n",
    "print(\"The value for fib or 0 is: \", fibo(0))"
   ]
  },
  {
   "cell_type": "markdown",
   "metadata": {},
   "source": [
    "8. `Methods` -> this are functions within a class. "
   ]
  },
  {
   "cell_type": "markdown",
   "metadata": {},
   "source": [
    "9. `Class` -> group of related data that work together to perform a coherent operation."
   ]
  },
  {
   "cell_type": "markdown",
   "metadata": {},
   "source": [
    "10. `Object` -> instance of a class. "
   ]
  },
  {
   "cell_type": "markdown",
   "metadata": {},
   "source": [
    "11. `Attributes` -> store the state/data of the object."
   ]
  },
  {
   "cell_type": "code",
   "execution_count": 24,
   "metadata": {},
   "outputs": [
    {
     "name": "stdout",
     "output_type": "stream",
     "text": [
      "The sum of the initialized a and b is:  3\n",
      "The sum of the set values for a and b is:  5\n"
     ]
    }
   ],
   "source": [
    "# Example of a Class, with methods, object, attributes\n",
    "class Calculator:\n",
    "    def __init__(self, a=1, b=2):\n",
    "        self.a = a\n",
    "        self.b = b\n",
    "\n",
    "    def toAdd(self):\n",
    "        return self.a + self.b\n",
    "\n",
    "# Create an instance with default values\n",
    "cal_default = Calculator()\n",
    "print(\"The sum of the initialized a and b is: \", cal_default.toAdd())  # Output: 3\n",
    "\n",
    "# Create an instance with specified values\n",
    "cal_custom = Calculator(2, 3)\n",
    "print(\"The sum of the set values for a and b is: \", cal_custom.toAdd())  # Output: 5\n"
   ]
  }
 ],
 "metadata": {
  "kernelspec": {
   "display_name": "Python 3",
   "language": "python",
   "name": "python3"
  },
  "language_info": {
   "codemirror_mode": {
    "name": "ipython",
    "version": 3
   },
   "file_extension": ".py",
   "mimetype": "text/x-python",
   "name": "python",
   "nbconvert_exporter": "python",
   "pygments_lexer": "ipython3",
   "version": "3.12.0"
  }
 },
 "nbformat": 4,
 "nbformat_minor": 2
}
