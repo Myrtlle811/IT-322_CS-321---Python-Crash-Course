{
 "cells": [
  {
   "cell_type": "markdown",
   "metadata": {},
   "source": [
    "# **Python Methods**"
   ]
  },
  {
   "cell_type": "markdown",
   "metadata": {},
   "source": [
    "## List Methods"
   ]
  },
  {
   "cell_type": "code",
   "execution_count": 2,
   "metadata": {},
   "outputs": [
    {
     "name": "stdout",
     "output_type": "stream",
     "text": [
      "Programming Languages:  ['Python', 'Java', 'C++']\n"
     ]
    }
   ],
   "source": [
    "# creating a list \n",
    "my_list = [\"Python\", \"Java\", \"C++\"]\n",
    "print(\"Programming Languages: \", my_list)\n"
   ]
  },
  {
   "cell_type": "code",
   "execution_count": 3,
   "metadata": {},
   "outputs": [
    {
     "name": "stdout",
     "output_type": "stream",
     "text": [
      "Updated Programming Languages:  ['Python', 'Java', 'C++', 'PHP']\n"
     ]
    }
   ],
   "source": [
    "# append method : add new items at the end of the list \n",
    "my_list.append(\"PHP\")\n",
    "print(\"Updated Programming Languages: \", my_list)"
   ]
  },
  {
   "cell_type": "code",
   "execution_count": 5,
   "metadata": {},
   "outputs": [
    {
     "name": "stdout",
     "output_type": "stream",
     "text": [
      "Updated Programming Languages:  ['Python', 'Java', 'Ruby', 'Ruby', 'C++', 'PHP']\n"
     ]
    }
   ],
   "source": [
    "# insert method : appending an item at a specific place using indexing\n",
    "my_list.insert(2, \"Ruby\")\n",
    "print(\"Updated Programming Languages: \", my_list)"
   ]
  },
  {
   "cell_type": "code",
   "execution_count": 6,
   "metadata": {},
   "outputs": [
    {
     "name": "stdout",
     "output_type": "stream",
     "text": [
      "Updated Programming Languages:  ['Python', 'Java', 'Ruby', 'Ruby', 'C++']\n"
     ]
    }
   ],
   "source": [
    "# pop method : removes the last item in the list\n",
    "my_list.pop()\n",
    "print(\"Updated Programming Languages: \", my_list)"
   ]
  },
  {
   "cell_type": "code",
   "execution_count": 8,
   "metadata": {},
   "outputs": [
    {
     "name": "stdout",
     "output_type": "stream",
     "text": [
      "Updated Programming Languages:  ['Python', 'Java', 'Ruby', 'C++']\n"
     ]
    }
   ],
   "source": [
    "# remove method : remove specific items from the list\n",
    "my_list.remove(\"Ruby\")\n",
    "print(\"Updated Programming Languages: \", my_list)"
   ]
  },
  {
   "cell_type": "code",
   "execution_count": 9,
   "metadata": {},
   "outputs": [
    {
     "name": "stdout",
     "output_type": "stream",
     "text": [
      "Updated Programming Languages:  ['Python', 'Java', 'C++']\n"
     ]
    }
   ],
   "source": [
    "# del method : remove items by index, instead of values\n",
    "del my_list[2]\n",
    "print(\"Updated Programming Languages: \", my_list)"
   ]
  },
  {
   "cell_type": "code",
   "execution_count": 12,
   "metadata": {},
   "outputs": [
    {
     "name": "stdout",
     "output_type": "stream",
     "text": [
      "Sliced list_data array:  [2, 3, 4]\n",
      "Skip list_data array by 2:  [1, 3, 5]\n"
     ]
    }
   ],
   "source": [
    "# list slicing, to get a specific data from the data set\n",
    "# Slicing [starting point (included) : end point (excluded) : # of step or skip (optional)]\n",
    "list_data = [1, 2, 3, 4, 5]\n",
    "print(\"Sliced list_data array: \", list_data[1:4])\n",
    "print(\"Skip list_data array by 2: \", list_data[::2])\n"
   ]
  },
  {
   "cell_type": "code",
   "execution_count": 15,
   "metadata": {},
   "outputs": [
    {
     "name": "stdout",
     "output_type": "stream",
     "text": [
      "Combining the contents of 2 list [1, 2, 3, 'a', 'b', True]\n",
      "Updating list_a:  [1, 2, 3, 'a', 'b', True]\n",
      "Current list_b:  ['a', 'b', True]\n"
     ]
    }
   ],
   "source": [
    "# list extending \n",
    "list_a = [1, 2, 3]\n",
    "list_b = [\"a\", \"b\", True]\n",
    "\n",
    "# combine list by printing\n",
    "print(\"Combining the contents of 2 list\", list_a + list_b)\n",
    "\n",
    "# combine list by using extend method\n",
    "list_a.extend(list_b)\n",
    "print(\"Updating list_a: \", list_a)\n",
    "print(\"Current list_b: \", list_b)"
   ]
  },
  {
   "cell_type": "code",
   "execution_count": 18,
   "metadata": {},
   "outputs": [
    {
     "name": "stdout",
     "output_type": "stream",
     "text": [
      "Sorted list_data in accending order:  [1, 3, 5, 40, 100]\n",
      "Sorted list_data in descending order:  [100, 40, 5, 3, 1]\n"
     ]
    }
   ],
   "source": [
    "# sorting using integer values\n",
    "# sort method : to sort data in accending order\n",
    "list_data = [100, 3, 1, 40, 5]\n",
    "list_data.sort()\n",
    "print(\"Sorted list_data in accending order: \", list_data)\n",
    "\n",
    "# to sort data in descending order\n",
    "list_data.sort(reverse = True)\n",
    "print(\"Sorted list_data in descending order: \", list_data)"
   ]
  },
  {
   "cell_type": "code",
   "execution_count": 19,
   "metadata": {},
   "outputs": [
    {
     "name": "stdout",
     "output_type": "stream",
     "text": [
      "Sorted list_names in accending order:  ['Christian', 'Fer', 'Linton', 'Zey']\n"
     ]
    }
   ],
   "source": [
    "# sorting using strings\n",
    "list_names = [\"Linton\", \"Zey\", \"Fer\", \"Christian\"]\n",
    "list_names.sort()\n",
    "print(\"Sorted list_names in accending order: \", list_names)"
   ]
  }
 ],
 "metadata": {
  "kernelspec": {
   "display_name": "myvenv",
   "language": "python",
   "name": "python3"
  },
  "language_info": {
   "codemirror_mode": {
    "name": "ipython",
    "version": 3
   },
   "file_extension": ".py",
   "mimetype": "text/x-python",
   "name": "python",
   "nbconvert_exporter": "python",
   "pygments_lexer": "ipython3",
   "version": "3.12.0"
  }
 },
 "nbformat": 4,
 "nbformat_minor": 2
}
