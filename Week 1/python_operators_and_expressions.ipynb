{
 "cells": [
  {
   "cell_type": "markdown",
   "metadata": {},
   "source": [
    "# **Python Operators and Expressions**"
   ]
  },
  {
   "cell_type": "markdown",
   "metadata": {},
   "source": [
    "## Arithmetic Operators"
   ]
  },
  {
   "cell_type": "code",
   "execution_count": 8,
   "metadata": {},
   "outputs": [
    {
     "name": "stdout",
     "output_type": "stream",
     "text": [
      "Sum:  15\n",
      "Difference:  -5\n",
      "Product:  50\n",
      "Quotient:  0.5\n",
      "Remainders:  1\n",
      "Squared:  4\n"
     ]
    }
   ],
   "source": [
    "# Addition (+) \n",
    "print(\"Sum: \", 5 + 10)\n",
    "\n",
    "# Subtraction (-)\n",
    "print(\"Difference: \", 5 - 10)\n",
    "\n",
    "#  Multuplication (*)\n",
    "print(\"Product: \", 5 * 10)\n",
    "\n",
    "# Division (/)\n",
    "print(\"Quotient: \", 5 / 10)\n",
    "\n",
    "# Modulus (%)\n",
    "print(\"Remainders: \", 10 % 3)\n",
    "\n",
    "# Exponents (**)\n",
    "print(\"Squared: \", 2**2)\n"
   ]
  },
  {
   "cell_type": "markdown",
   "metadata": {},
   "source": [
    "## Comparision Operators"
   ]
  },
  {
   "cell_type": "code",
   "execution_count": 14,
   "metadata": {},
   "outputs": [
    {
     "name": "stdout",
     "output_type": "stream",
     "text": [
      "x and y are equal:  False\n",
      "x and y are not equal:  True\n",
      "x is greater than y:  True\n",
      "x is greater than or equal to y:  True\n",
      "x is less than y:  False\n",
      "x is less than or equal to y:  False\n"
     ]
    }
   ],
   "source": [
    "x = 10\n",
    "y = 5\n",
    "\n",
    "# Equal to (==)\n",
    "\"\"\"\n",
    "one equal sign -> assigning a value\n",
    "two equal signs -> comparing the values of two variables\n",
    "\"\"\"\n",
    "print(\"x and y are equal: \", x == y)\n",
    "\n",
    "# Not Equal to (!=)\n",
    "print(\"x and y are not equal: \", x != y)\n",
    "\n",
    "# Greater than (>)\n",
    "print(\"x is greater than y: \", x > y)\n",
    "\n",
    "# Greater than or Equal to (>=)\n",
    "print(\"x is greater than or equal to y: \", x >= y)\n",
    "\n",
    "# Lesser than (<)s\n",
    "print(\"x is less than y: \", x < y)\n",
    "\n",
    "# Lesser than or Equal to (<=)\n",
    "print(\"x is less than or equal to y: \", x <= y)"
   ]
  },
  {
   "cell_type": "markdown",
   "metadata": {},
   "source": [
    "## Logical Operators"
   ]
  },
  {
   "cell_type": "code",
   "execution_count": 17,
   "metadata": {},
   "outputs": [
    {
     "name": "stdout",
     "output_type": "stream",
     "text": [
      "The logic is:  False\n",
      "The logic is:  True\n",
      "The logic is:  False\n"
     ]
    }
   ],
   "source": [
    "x = 10\n",
    "y = 5\n",
    "\n",
    "# AND (and): returns True when all conditions are True, else False\n",
    "print(\"The logic is: \", (x > 5) and (y < 5))\n",
    "\n",
    "# Or (or): returns True for at least one True in the condition\n",
    "print(\"The logic is: \", (x > 5) or (y < 5))\n",
    "\n",
    "# Not (not): invert or the reverse of the value or the condition\n",
    "print(\"The logic is: \", not(x == 10))"
   ]
  },
  {
   "cell_type": "markdown",
   "metadata": {},
   "source": [
    "## Assignment Operators"
   ]
  },
  {
   "cell_type": "code",
   "execution_count": 23,
   "metadata": {},
   "outputs": [
    {
     "name": "stdout",
     "output_type": "stream",
     "text": [
      "Current value of x:  10\n",
      "New value of x:  15\n",
      "New value of x:  10\n",
      "New value of x:  50\n",
      "New value of x:  10.0\n"
     ]
    }
   ],
   "source": [
    "x = 10\n",
    "print(\"Current value of x: \", x)\n",
    "\n",
    "# Addition Assignment\n",
    "# x = x + 5 -> x += 5\n",
    "x += 5\n",
    "print(\"New value of x: \", x)\n",
    "\n",
    "# Subtraction Assignment\n",
    "# x = x - 5 -> x -= 5\n",
    "x -= 5\n",
    "print(\"New value of x: \", x)\n",
    "\n",
    "# Multiplication Assignment\n",
    "# x = x * 5 -> x *= 5\n",
    "x *= 5\n",
    "print(\"New value of x: \", x)\n",
    "\n",
    "# Division Assignment\n",
    "# x = x / 5 -> x /= 5\n",
    "x /= 5\n",
    "print(\"New value of x: \", x)"
   ]
  },
  {
   "cell_type": "markdown",
   "metadata": {},
   "source": [
    "## Type Coercion or Type Conversion"
   ]
  },
  {
   "cell_type": "code",
   "execution_count": 30,
   "metadata": {},
   "outputs": [
    {
     "name": "stdout",
     "output_type": "stream",
     "text": [
      "Original value of x is  10  with type of  <class 'int'>\n",
      "Updated value of x is  10.0  with type of  <class 'float'>\n",
      "Updated value of x is  10.0  with type of  <class 'str'>\n"
     ]
    }
   ],
   "source": [
    "x = 10  #int\n",
    "print(\"Original value of x is \", x, \" with type of \", type(x))\n",
    "\n",
    "# Converting from int to float\n",
    "x = float(x)\n",
    "print(\"Updated value of x is \", x, \" with type of \", type(x))\n",
    "\n",
    "# Converting to string\n",
    "x = str(x)\n",
    "print(\"Updated value of x is \", x, \" with type of \", type(x))"
   ]
  }
 ],
 "metadata": {
  "kernelspec": {
   "display_name": "Python 3",
   "language": "python",
   "name": "python3"
  },
  "language_info": {
   "codemirror_mode": {
    "name": "ipython",
    "version": 3
   },
   "file_extension": ".py",
   "mimetype": "text/x-python",
   "name": "python",
   "nbconvert_exporter": "python",
   "pygments_lexer": "ipython3",
   "version": "3.12.0"
  }
 },
 "nbformat": 4,
 "nbformat_minor": 2
}
