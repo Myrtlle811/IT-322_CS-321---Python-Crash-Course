{
 "cells": [
  {
   "cell_type": "markdown",
   "metadata": {},
   "source": [
    "# **Markdown and Jupyter Basics**"
   ]
  },
  {
   "cell_type": "markdown",
   "metadata": {},
   "source": [
    "Jupyter Notebook is an open-source web application that allows you to create and share documents that contain live code, equations, visualizations, and narrative text. Notebook & Markdown is widely used for creating documentation and reports."
   ]
  },
  {
   "cell_type": "markdown",
   "metadata": {},
   "source": [
    "## Keyboard Shortcuts"
   ]
  },
  {
   "cell_type": "markdown",
   "metadata": {},
   "source": [
    "- **Shift + Enter**: Execute the current cell and move to the next one.\n",
    "\n",
    "- **Ctrl + Enter**: Execute the current cell and remain in the same cell.\n",
    "\n",
    "- **Esc**: Enter command mode, allowing for navigation and execution commands.\n",
    "\n",
    "- **Enter**: Enter edit mode for the currently selected cell.\n",
    "\n",
    "- **A (in command mode)**: Insert a new cell above the current cell.\n",
    "\n",
    "- **B (in command mode)**: Insert a new cell below the current cell.\n",
    "\n",
    "- **M (in command mode)**: Change the current cell to a Markdown cell.\n",
    "\n",
    "- **Y (in command mode)**: Change the current cell to a Code cell."
   ]
  },
  {
   "cell_type": "markdown",
   "metadata": {},
   "source": [
    "## What is a Markdown?"
   ]
  },
  {
   "cell_type": "markdown",
   "metadata": {},
   "source": [
    "Markdown is a lightweight markup language with plain-text formatting syntax, designed to be easy to read and write. It was created by John Gruber in 2004 with the goal of allowing people to write using an easy-to-read and easy-to-write plain text format, which could then be converted into structurally valid XHTML (or HTML). Markdown is widely used for creating documentation, writing README files for projects, and even writing emails."
   ]
  },
  {
   "cell_type": "markdown",
   "metadata": {},
   "source": [
    "## Basic Markdown Syntax"
   ]
  },
  {
   "cell_type": "markdown",
   "metadata": {},
   "source": [
    "### Headings"
   ]
  },
  {
   "cell_type": "markdown",
   "metadata": {},
   "source": [
    "# Heading 1, Title/The Main Topic\n",
    "## Heading 2, Major Headings\n",
    "### Heading 3, Subheadings of the Major Headings\n",
    "#### Heading 4, 4th Level Subheadings\n",
    "##### Heading 5, 5th Level Subheadings\n",
    "###### Heading 6, 6th Level Subheadings"
   ]
  },
  {
   "cell_type": "markdown",
   "metadata": {},
   "source": [
    "### Plain Text"
   ]
  },
  {
   "cell_type": "markdown",
   "metadata": {},
   "source": [
    "This is a sample of a plain text. You use plain text combined with simple symbols to add formatting, which makes the text both readable in its raw form and easily convertible to other formats."
   ]
  },
  {
   "cell_type": "markdown",
   "metadata": {},
   "source": [
    "### Text Formatting"
   ]
  },
  {
   "cell_type": "markdown",
   "metadata": {},
   "source": [
    "<!-- Bold -->\n",
    "<!-- To make your point stand out -->\n",
    "This is some **bold text**.\n",
    "\n",
    "<!-- Italic --L>\n",
    "<!-- For uncommon words, needing further explanation -->\n",
    "This is some *italicized text*.\n",
    "\n",
    "<!-- Strikethrough -->\n",
    "<!-- For text that are invalid or not applicable anymore -->\n",
    "This is some ~~invalid text~~.\n",
    "\n",
    "<!-- Superscript and Subscript -->\n",
    "The expression is x<sup>2</sup>.\n",
    "\n",
    "The chemical formula for water is H<sub>2</sub>0.\n",
    "\n",
    "<!-- Highlighting Text -->\n",
    "This is a `highlighted text`."
   ]
  },
  {
   "cell_type": "markdown",
   "metadata": {},
   "source": [
    "### Inline Code, Blockquotes, Horizontal Rule"
   ]
  },
  {
   "cell_type": "markdown",
   "metadata": {},
   "source": [
    "<!-- Inline Code -->\n",
    "<!-- Used to highlight an important code -->\n",
    "This is a sample of a Python code `print(\"Hello world!\")`.\n",
    "\n",
    "<!-- Blockqoute -->\n",
    "<!-- Highlights the entire line of code to give emphasis to it -->\n",
    "> This is a blockquote.\n",
    "\n",
    "<!-- Horizontal Rule -->\n",
    "<!-- To make a horizontal lines -->\n",
    "--- \n",
    "***\n",
    "___"
   ]
  },
  {
   "cell_type": "markdown",
   "metadata": {},
   "source": [
    "<!-- To represent links and images inside a notebook -->\n",
    "### Links and Images"
   ]
  },
  {
   "cell_type": "markdown",
   "metadata": {},
   "source": [
    "<!-- Links -->\n",
    "<!-- for the [], inside is the text representation of the link -->\n",
    "<!-- for the (), inside is the link -->\n",
    "[Google](https://www.google.com)\n",
    "\n",
    "<!-- Images via the Internet -->\n",
    "<!-- same as that of the link, but add an ! to identify that it is an image -->\n",
    "<!-- for the  [], the text inside it will be printed instead if the image is not available -->\n",
    "<!-- for the (), inside is the link to the image -->\n",
    "![Jupyter Image Text](https://cdn.icon-icons.com/icons2/2699/PNG/512/jupyter_logo_icon_169453.png)\n",
    "\n",
    "<!-- Images via local link -->\n",
    "<!-- Note, to add an image locally, it most be in the same folder as that of your .ipynb files -->\n",
    "![Data Analytics](image.png)"
   ]
  },
  {
   "cell_type": "markdown",
   "metadata": {},
   "source": [
    "### Makedown List"
   ]
  },
  {
   "cell_type": "markdown",
   "metadata": {},
   "source": [
    "<!-- Used when the listing of items need not be in any particular order -->\n",
    "#### Unordered List\n",
    "\n",
    "- Item 1\n",
    "- Item 2\n",
    "- Item 3"
   ]
  },
  {
   "cell_type": "markdown",
   "metadata": {},
   "source": [
    "<!-- For listing items in order -->\n",
    "#### Ordered List\n",
    "\n",
    "1. Item 1\n",
    "2. Item 2\n",
    "3. Item 3"
   ]
  },
  {
   "cell_type": "markdown",
   "metadata": {},
   "source": [
    "### Markdown Table"
   ]
  },
  {
   "cell_type": "markdown",
   "metadata": {},
   "source": [
    "<!-- | are used to represent the column lines, --- for the rows, --- is the minimum -->\n",
    "<!-- You can add more - to make it visually appealing, but it is not necessary -->\n",
    "<!-- The headers will naturally be bolden -->\n",
    "| Header 1 | Header 2 | Header 3 |\n",
    "| --- | --- | --- |L\n",
    "| Row 1, Col 1 | Row 1, Col 2 | Row 1, Col 3 |\n",
    "| Row 2, Col 1 | Row 2, Col 2 | Row 2, Col 3 |\n",
    "| Row 3, Col 1 | Row 3, Col 2 | Row 3, Col 3 |"
   ]
  }
 ],
 "metadata": {
  "language_info": {
   "name": "python"
  }
 },
 "nbformat": 4,
 "nbformat_minor": 2
}
